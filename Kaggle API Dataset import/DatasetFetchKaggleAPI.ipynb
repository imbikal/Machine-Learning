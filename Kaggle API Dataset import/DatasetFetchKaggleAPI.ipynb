{
 "cells": [
  {
   "cell_type": "markdown",
   "id": "9c65ce5d-27b3-4c2c-be64-2dd7bdc32d72",
   "metadata": {},
   "source": [
    "# Fetching Dataset through Kaggle API"
   ]
  },
  {
   "cell_type": "markdown",
   "id": "ed24d52c-9e6e-483a-a30b-f23c4c960b69",
   "metadata": {},
   "source": [
    "## API : Application Programming Interface"
   ]
  },
  {
   "cell_type": "markdown",
   "id": "046c8ec6-5523-460d-8100-ab66810dc985",
   "metadata": {},
   "source": [
    "### Installing Kaggle Library"
   ]
  },
  {
   "cell_type": "code",
   "execution_count": 1,
   "id": "e28d02b6-4283-4802-9ade-6b0765f7c96e",
   "metadata": {},
   "outputs": [
    {
     "name": "stdout",
     "output_type": "stream",
     "text": [
      "Requirement already satisfied: kaggle in /Library/Frameworks/Python.framework/Versions/3.12/lib/python3.12/site-packages (1.6.17)\n",
      "Requirement already satisfied: six>=1.10 in /Users/bikaladhikari/Library/Python/3.12/lib/python/site-packages (from kaggle) (1.16.0)\n",
      "Requirement already satisfied: certifi>=2023.7.22 in /Library/Frameworks/Python.framework/Versions/3.12/lib/python3.12/site-packages (from kaggle) (2024.8.30)\n",
      "Requirement already satisfied: python-dateutil in /Users/bikaladhikari/Library/Python/3.12/lib/python/site-packages (from kaggle) (2.9.0.post0)\n",
      "Requirement already satisfied: requests in /Library/Frameworks/Python.framework/Versions/3.12/lib/python3.12/site-packages (from kaggle) (2.32.3)\n",
      "Requirement already satisfied: tqdm in /Library/Frameworks/Python.framework/Versions/3.12/lib/python3.12/site-packages (from kaggle) (4.67.1)\n",
      "Requirement already satisfied: python-slugify in /Library/Frameworks/Python.framework/Versions/3.12/lib/python3.12/site-packages (from kaggle) (8.0.4)\n",
      "Requirement already satisfied: urllib3 in /Library/Frameworks/Python.framework/Versions/3.12/lib/python3.12/site-packages (from kaggle) (2.2.3)\n",
      "Requirement already satisfied: bleach in /Users/bikaladhikari/Library/Python/3.12/lib/python/site-packages (from kaggle) (6.2.0)\n",
      "Requirement already satisfied: webencodings in /Users/bikaladhikari/Library/Python/3.12/lib/python/site-packages (from bleach->kaggle) (0.5.1)\n",
      "Requirement already satisfied: text-unidecode>=1.3 in /Library/Frameworks/Python.framework/Versions/3.12/lib/python3.12/site-packages (from python-slugify->kaggle) (1.3)\n",
      "Requirement already satisfied: charset-normalizer<4,>=2 in /Library/Frameworks/Python.framework/Versions/3.12/lib/python3.12/site-packages (from requests->kaggle) (3.4.0)\n",
      "Requirement already satisfied: idna<4,>=2.5 in /Library/Frameworks/Python.framework/Versions/3.12/lib/python3.12/site-packages (from requests->kaggle) (3.10)\n"
     ]
    }
   ],
   "source": [
    "!pip install kaggle"
   ]
  },
  {
   "cell_type": "markdown",
   "id": "05872a7b-2628-4db5-9d0d-bfbabcbb4446",
   "metadata": {},
   "source": [
    "## Upload your kaggle.json file"
   ]
  },
  {
   "cell_type": "code",
   "execution_count": 6,
   "id": "1e923717-478e-4b97-8d1f-7a86cd4c41ac",
   "metadata": {},
   "outputs": [],
   "source": [
    "!mkdir -p ~/.kaggle\n",
    "!cp kaggle.json ~/.kaggle/\n",
    "!chmod 600 ~/.kaggle/kaggle.json"
   ]
  },
  {
   "cell_type": "markdown",
   "id": "d6fba670-2906-4fa8-9cf8-f1454191131f",
   "metadata": {},
   "source": [
    "## Now importing the Data"
   ]
  },
  {
   "cell_type": "code",
   "execution_count": 8,
   "id": "5bd4113a-7590-4c5e-8f1f-ed1d7a3cdd6a",
   "metadata": {},
   "outputs": [
    {
     "name": "stdout",
     "output_type": "stream",
     "text": [
      "403 - Forbidden - You must accept this competition's rules before you'll be able to download files.\n"
     ]
    }
   ],
   "source": [
    "!kaggle competitions download -c LANL-Earthquake-Prediction #Currently too many requests to join competition (For Later)"
   ]
  },
  {
   "cell_type": "markdown",
   "id": "8d784c5d-304c-42c1-b5a4-1f76a82b8211",
   "metadata": {},
   "source": [
    "## Extracting the compessed Dataset"
   ]
  },
  {
   "cell_type": "code",
   "execution_count": 9,
   "id": "8468e530-3d34-4c92-9e51-5ee1ebea4399",
   "metadata": {},
   "outputs": [
    {
     "data": {
      "text/plain": [
       "\" from zipfile import ZipFile\\ndataset = 'train.csv.zip'\\n\\nwith ZipFile(dataset,'r') as zip:\\n  zip.extractall()\\n  print('The dataset is extracted') \""
      ]
     },
     "execution_count": 9,
     "metadata": {},
     "output_type": "execute_result"
    }
   ],
   "source": [
    "\"\"\" from zipfile import ZipFile\n",
    "dataset = 'train.csv.zip'\n",
    "\n",
    "with ZipFile(dataset,'r') as zip:\n",
    "  zip.extractall()\n",
    "  print('The dataset is extracted') \"\"\"  # Task for later"
   ]
  }
 ],
 "metadata": {
  "kernelspec": {
   "display_name": "Python 3 (ipykernel)",
   "language": "python",
   "name": "python3"
  },
  "language_info": {
   "codemirror_mode": {
    "name": "ipython",
    "version": 3
   },
   "file_extension": ".py",
   "mimetype": "text/x-python",
   "name": "python",
   "nbconvert_exporter": "python",
   "pygments_lexer": "ipython3",
   "version": "3.12.4"
  }
 },
 "nbformat": 4,
 "nbformat_minor": 5
}
