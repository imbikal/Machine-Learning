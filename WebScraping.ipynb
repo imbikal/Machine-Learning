{
 "cells": [
  {
   "cell_type": "markdown",
   "id": "f0ae017e-ec76-4334-96d8-a9bf2e3eaa51",
   "metadata": {},
   "source": [
    "# Web Scraping using a library called Beautiful Soup"
   ]
  },
  {
   "cell_type": "code",
   "execution_count": 1,
   "id": "2cf40968-24fe-4c02-8f74-1f10a0f22a2a",
   "metadata": {},
   "outputs": [],
   "source": [
    "import pandas as pd\n",
    "import requests\n",
    "from bs4 import BeautifulSoup"
   ]
  },
  {
   "cell_type": "markdown",
   "id": "30db0acb-7722-43c5-98a1-4597ef785f73",
   "metadata": {},
   "source": [
    "## Import Webpage"
   ]
  },
  {
   "cell_type": "code",
   "execution_count": 2,
   "id": "e9e826ee-5dde-45f6-ab64-c17ddcf9fdbd",
   "metadata": {},
   "outputs": [],
   "source": [
    "headers = {\"User-Agent\": \"Mozilla/5.0 (Macintosh; Intel Mac OS X 10.14; rv:66.0) Gecko/20100101 FireFox/66.0\"}\n",
    "webpage = requests.get('https://www.ambitionbox.com/list-of-companies?page=1',headers=headers).text"
   ]
  },
  {
   "cell_type": "markdown",
   "id": "db4fe1c0-0a88-4f39-ae8c-bed80f742f68",
   "metadata": {},
   "source": [
    "## Define \"Soup\" as BeautifulSoup library"
   ]
  },
  {
   "cell_type": "code",
   "execution_count": 3,
   "id": "5ba73ed7-3bbc-4aa7-a5fb-d3dcab819856",
   "metadata": {},
   "outputs": [],
   "source": [
    "soup = BeautifulSoup(webpage, 'html.parser')"
   ]
  },
  {
   "cell_type": "markdown",
   "id": "a51804e0-437d-4dfb-bf8b-5129f961e8c8",
   "metadata": {},
   "source": [
    "## Use Print"
   ]
  },
  {
   "cell_type": "code",
   "execution_count": 4,
   "id": "ed4aff1d-23d3-4c56-af89-6360d4bd0ec9",
   "metadata": {},
   "outputs": [],
   "source": [
    "# print(soup.prettify()) .... This prints whole page so its too long to showcase"
   ]
  },
  {
   "cell_type": "markdown",
   "id": "4b082119-5ff9-4987-bc06-02eda39ad74b",
   "metadata": {},
   "source": [
    "## Extract the heading line"
   ]
  },
  {
   "cell_type": "code",
   "execution_count": 5,
   "id": "15d222ef-af0a-41a8-b222-ddcae8e6bba6",
   "metadata": {},
   "outputs": [
    {
     "name": "stdout",
     "output_type": "stream",
     "text": [
      "Companies in India\n"
     ]
    }
   ],
   "source": [
    "for n in soup.find_all('h1'):\n",
    "    print(n.text.strip())"
   ]
  },
  {
   "cell_type": "markdown",
   "id": "67b6eae2-de90-4ca9-bbf5-95f233ae5534",
   "metadata": {},
   "source": [
    "## Extract the company name"
   ]
  },
  {
   "cell_type": "code",
   "execution_count": 6,
   "id": "e31a75a9-89a4-4b97-ba1a-347cf5b6c06d",
   "metadata": {},
   "outputs": [
    {
     "name": "stdout",
     "output_type": "stream",
     "text": [
      "TCS\n",
      "Accenture\n",
      "Wipro\n",
      "Cognizant\n",
      "Capgemini\n",
      "HDFC Bank\n",
      "Infosys\n",
      "ICICI Bank\n",
      "HCLTech\n",
      "Tech Mahindra\n",
      "Genpact\n",
      "Teleperformance\n",
      "Concentrix Corporation\n",
      "Axis Bank\n",
      "Amazon\n",
      "Jio\n",
      "Reliance Retail\n",
      "IBM\n",
      "iEnergizer\n",
      "LTIMindtree\n",
      "Companies by Industry\n",
      "Companies by Locations\n",
      "Companies by Type\n"
     ]
    }
   ],
   "source": [
    "for i in soup.find_all('h2'):\n",
    "    print(i.text.strip())"
   ]
  },
  {
   "cell_type": "markdown",
   "id": "6d53e7c6-e6ae-4deb-ba95-d08b7241ef70",
   "metadata": {},
   "source": [
    "## Extract company rating"
   ]
  },
  {
   "cell_type": "code",
   "execution_count": 7,
   "id": "18f96cd2-6e09-4527-8d4d-0a30b7c42fe2",
   "metadata": {},
   "outputs": [
    {
     "name": "stdout",
     "output_type": "stream",
     "text": [
      "3.7\n",
      "3.9\n",
      "3.7\n",
      "3.8\n",
      "3.8\n",
      "3.9\n",
      "3.7\n",
      "4.0\n",
      "3.5\n",
      "3.6\n",
      "3.9\n",
      "3.9\n",
      "3.8\n",
      "3.8\n",
      "4.1\n",
      "3.9\n",
      "3.9\n",
      "4.1\n",
      "4.7\n",
      "3.9\n"
     ]
    }
   ],
   "source": [
    "for k in soup.find_all('div',class_='rating_star_container'):\n",
    "    print(k.text.strip())"
   ]
  },
  {
   "cell_type": "markdown",
   "id": "6300ea01-6e28-4cdc-a47c-45fcc0b3fc3b",
   "metadata": {},
   "source": [
    "## Extract Card Data"
   ]
  },
  {
   "cell_type": "code",
   "execution_count": 8,
   "id": "da26daf3-5799-48b5-9c20-39886d3da674",
   "metadata": {},
   "outputs": [
    {
     "name": "stdout",
     "output_type": "stream",
     "text": [
      "IT Services & Consulting | Bangalore / Bengaluru +376 other locations\n",
      "IT Services & Consulting | Bangalore / Bengaluru +193 other locations\n",
      "IT Services & Consulting | Bangalore / Bengaluru +338 other locations\n",
      "IT Services & Consulting | Chennai +191 other locations\n",
      "IT Services & Consulting | Bangalore / Bengaluru +155 other locations\n",
      "Banking | Mumbai +1623 other locations\n",
      "IT Services & Consulting | Bangalore / Bengaluru +197 other locations\n",
      "Banking | Mumbai +1332 other locations\n",
      "IT Services & Consulting | Chennai +200 other locations\n",
      "IT Services & Consulting | Hyderabad / Secunderabad +285 other locations\n",
      "IT Services & Consulting | Hyderabad / Secunderabad +133 other locations\n",
      "BPO | Mumbai +205 other locations\n",
      "BPO | Bangalore / Bengaluru +138 other locations\n",
      "Banking | Mumbai +1356 other locations\n",
      "Internet | Bangalore / Bengaluru +458 other locations\n",
      "Mumbai +1202 other locations\n",
      "Retail | Mumbai +1042 other locations\n",
      "IT Services & Consulting | Bangalore / Bengaluru +154 other locations\n",
      "BPO | Noida +38 other locations\n",
      "IT Services & Consulting | Bangalore / Bengaluru +125 other locations\n"
     ]
    }
   ],
   "source": [
    "for l in soup.find_all('span',class_='companyCardWrapper__interLinking'):\n",
    "    print(l.text.strip())"
   ]
  }
 ],
 "metadata": {
  "kernelspec": {
   "display_name": "Python 3 (ipykernel)",
   "language": "python",
   "name": "python3"
  },
  "language_info": {
   "codemirror_mode": {
    "name": "ipython",
    "version": 3
   },
   "file_extension": ".py",
   "mimetype": "text/x-python",
   "name": "python",
   "nbconvert_exporter": "python",
   "pygments_lexer": "ipython3",
   "version": "3.12.4"
  }
 },
 "nbformat": 4,
 "nbformat_minor": 5
}
